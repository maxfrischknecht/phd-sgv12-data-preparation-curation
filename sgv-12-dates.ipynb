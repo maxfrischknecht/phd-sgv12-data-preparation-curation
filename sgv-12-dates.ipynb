{
 "cells": [
  {
   "cell_type": "markdown",
   "metadata": {},
   "source": [
    "# SGV 12 Dates\n",
    "\n",
    "A notebook to create a data sets of images from the collection Ernst Brunner that contain dates. "
   ]
  },
  {
   "cell_type": "code",
   "execution_count": 1,
   "metadata": {},
   "outputs": [],
   "source": [
    "import os\n",
    "import json\n",
    "from collections import defaultdict\n",
    "\n",
    "# path to the complete, local, collection data\n",
    "input_dir = \"/Users/maxfrischknecht/mfvk_cloud/A_PhD/07_Data/SGV_12N_Metadata_full\""
   ]
  },
  {
   "cell_type": "code",
   "execution_count": 2,
   "metadata": {},
   "outputs": [],
   "source": [
    "# loop over all the files in the input_dir\n",
    "result = []\n",
    "for file_name in os.listdir(input_dir):\n",
    "    if file_name.endswith('.json'):\n",
    "        with open(os.path.join(input_dir, file_name), 'r') as f:\n",
    "            # the file is open\n",
    "            data = json.load(f)\n",
    "            # place to save the extracted data\n",
    "            reduced_data = []\n",
    "\n",
    "            for obj in data:\n",
    "                \n",
    "                # test if image has id and comment\n",
    "                if 'schema:identifier' in obj and 'schema:temporal' in obj:\n",
    "                    reduced_obj = {}\n",
    "\n",
    "                    # save the filename as id\n",
    "                    reduced_obj['schema:identifier'] = obj['schema:identifier'][0]['@value']\n",
    "\n",
    "                    # loop over the array of dates\n",
    "                    dates_list = []\n",
    "                    for item in obj['schema:temporal']:\n",
    "                        if '@value' in item:\n",
    "                            dates_list.append(item['@value'])\n",
    "                    reduced_obj[\"schema:temporal\"] = dates_list;\n",
    " \n",
    "                    # save the new objects with its properties in a list\n",
    "                    # print(reduced_obj)\n",
    "                    reduced_data.append(reduced_obj)\n",
    "\n",
    "            # save the list of reduced objects in a global list\n",
    "            result.extend(reduced_data)"
   ]
  },
  {
   "cell_type": "code",
   "execution_count": 3,
   "metadata": {},
   "outputs": [
    {
     "name": "stdout",
     "output_type": "stream",
     "text": [
      "{'schema:identifier': 'SGV_12N_07511', 'schema:temporal': ['1942-05']}\n",
      "33539\n"
     ]
    }
   ],
   "source": [
    "print(result[5])\n",
    "print(len(result))"
   ]
  },
  {
   "cell_type": "code",
   "execution_count": 4,
   "metadata": {},
   "outputs": [
    {
     "name": "stdout",
     "output_type": "stream",
     "text": [
      "614\n",
      "{'schema:identifier': ['SGV_12N_07501', 'SGV_12N_07502', 'SGV_12N_07503', 'SGV_12N_07509', 'SGV_12N_07510', 'SGV_12N_07511', 'SGV_12N_07512', 'SGV_12N_07513', 'SGV_12N_07514', 'SGV_12N_07515', 'SGV_12N_07516', 'SGV_12N_07517', 'SGV_12N_07518', 'SGV_12N_07519', 'SGV_12N_07520', 'SGV_12N_07521', 'SGV_12N_07522', 'SGV_12N_07523', 'SGV_12N_07524', 'SGV_12N_07525', 'SGV_12N_07526', 'SGV_12N_07527', 'SGV_12N_07528', 'SGV_12N_07529', 'SGV_12N_07530', 'SGV_12N_07531', 'SGV_12N_07532', 'SGV_12N_07533', 'SGV_12N_07534', 'SGV_12N_07535', 'SGV_12N_07536', 'SGV_12N_07537', 'SGV_12N_07538', 'SGV_12N_07539', 'SGV_12N_07540', 'SGV_12N_07541', 'SGV_12N_07542', 'SGV_12N_07543', 'SGV_12N_07544', 'SGV_12N_07545', 'SGV_12N_07546', 'SGV_12N_07547', 'SGV_12N_07548', 'SGV_12N_07549', 'SGV_12N_07550', 'SGV_12N_07551', 'SGV_12N_07552', 'SGV_12N_07553', 'SGV_12N_07554', 'SGV_12N_07555'], 'schema:temporal': ['1942-05']}\n"
     ]
    }
   ],
   "source": [
    "# Aggregating items\n",
    "aggregated_result = defaultdict(lambda: {'schema:identifier': []})\n",
    "\n",
    "for item in result:\n",
    "    key = tuple(item['schema:temporal'])\n",
    "    aggregated_result[key]['schema:identifier'].append(item['schema:identifier'])\n",
    "    aggregated_result[key]['schema:temporal'] = item['schema:temporal']\n",
    "\n",
    "# Convert aggregated_result to a list\n",
    "final_result = list(aggregated_result.values())\n",
    "print(len(final_result))\n",
    "print(final_result[0])"
   ]
  },
  {
   "cell_type": "code",
   "execution_count": 6,
   "metadata": {},
   "outputs": [
    {
     "name": "stdout",
     "output_type": "stream",
     "text": [
      "Data has been exported\n"
     ]
    }
   ],
   "source": [
    "with open('./export/sgv-12_dates.json', 'w') as json_file:\n",
    "    json.dump(final_result, json_file, indent=4)\n",
    "\n",
    "print(\"Data has been exported\")"
   ]
  },
  {
   "cell_type": "code",
   "execution_count": null,
   "metadata": {},
   "outputs": [],
   "source": []
  }
 ],
 "metadata": {
  "kernelspec": {
   "display_name": "Python 3",
   "language": "python",
   "name": "python3"
  },
  "language_info": {
   "codemirror_mode": {
    "name": "ipython",
    "version": 3
   },
   "file_extension": ".py",
   "mimetype": "text/x-python",
   "name": "python",
   "nbconvert_exporter": "python",
   "pygments_lexer": "ipython3",
   "version": "3.11.5"
  }
 },
 "nbformat": 4,
 "nbformat_minor": 2
}
