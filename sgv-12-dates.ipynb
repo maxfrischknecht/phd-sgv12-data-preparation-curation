{
 "cells": [
  {
   "cell_type": "markdown",
   "metadata": {},
   "source": [
    "# SGV12 Keywords\n",
    "\n",
    "A notebook to create a data sets of images from the collection Ernst Brunner that contain keywords. "
   ]
  },
  {
   "cell_type": "code",
   "execution_count": 2,
   "metadata": {},
   "outputs": [],
   "source": [
    "import os\n",
    "import json\n",
    "import csv\n",
    "from collections import defaultdict\n",
    "\n",
    "# path to the complete, local, collection data\n",
    "input_dir = \"/Users/maxfrischknecht/mfvk_cloud/A_PhD/07_Data/SGV_12N_Metadata_full\""
   ]
  },
  {
   "cell_type": "code",
   "execution_count": 3,
   "metadata": {},
   "outputs": [],
   "source": [
    "result = []\n",
    "temp_result = defaultdict(lambda: {\"count\": 0, \"image_ids\": []})\n",
    "\n",
    "# Variables to store total counts\n",
    "total_objects = 0\n",
    "total_objects_with_dates = 0\n",
    "total_dates_given = 0\n",
    "total_dates_unique = 0\n",
    "\n",
    "for file_name in os.listdir(input_dir):\n",
    "    if file_name.endswith('.json'):\n",
    "        with open(os.path.join(input_dir, file_name), 'r') as f:\n",
    "            # the file is open\n",
    "            data = json.load(f)\n",
    "            for item in data:\n",
    "\n",
    "                total_objects += 1\n",
    "                # Get the 'schema:temporal' field, if it exists\n",
    "                if 'schema:temporal' in item:\n",
    "                    total_objects_with_dates += 1\n",
    "                    for about in item['schema:temporal']:\n",
    "                        # Extract the display_title\n",
    "                        temporal = about.get('@value')\n",
    "                        if temporal:\n",
    "                            # Increment the count for the temporal\n",
    "                            temp_result[temporal]['count'] += 1\n",
    "                            total_dates_given += 1\n",
    "\n",
    "                            # Collect the identifiers in schema:identifier, if it exists\n",
    "                            if 'schema:identifier' in item:\n",
    "                                identifiers = item['schema:identifier']\n",
    "                                # Add all identifiers' @value to the image_ids list\n",
    "                                temp_result[temporal]['image_ids'].append(identifiers[0]['@value'])\n",
    "\n",
    "\n",
    "# Convert the temp_result dictionary to the required format\n",
    "for label, data in temp_result.items():\n",
    "    result.append({\n",
    "        \"label\": label,\n",
    "        \"count\": data[\"count\"],\n",
    "        \"image_ids\": data[\"image_ids\"]\n",
    "    })\n",
    "\n",
    "total_dates_unique = len(temp_result)"
   ]
  },
  {
   "cell_type": "code",
   "execution_count": 4,
   "metadata": {},
   "outputs": [
    {
     "name": "stdout",
     "output_type": "stream",
     "text": [
      "Total objects: 47837\n",
      "Total objects with dates: 33539\n",
      "Total dates given: 39489\n",
      "Total unique dates given: 574\n",
      "Percentage of dates to images: 70.11%\n"
     ]
    }
   ],
   "source": [
    "print(f\"Total objects: {total_objects}\")\n",
    "print(f\"Total objects with dates: {total_objects_with_dates}\")\n",
    "print(f\"Total dates given: {total_dates_given}\")\n",
    "print(f\"Total unique dates given: {total_dates_unique}\")\n",
    "\n",
    "percentage = (total_objects_with_dates / total_objects) * 100\n",
    "print(f\"Percentage of dates to images: {percentage:.2f}%\")"
   ]
  },
  {
   "cell_type": "code",
   "execution_count": 5,
   "metadata": {},
   "outputs": [
    {
     "name": "stdout",
     "output_type": "stream",
     "text": [
      "Data has been exported\n"
     ]
    }
   ],
   "source": [
    "with open('./export/sgv-12_dates.json', 'w') as json_file:\n",
    "    json.dump(result, json_file, indent=4)\n",
    "\n",
    "print(\"Data has been exported\")"
   ]
  },
  {
   "cell_type": "code",
   "execution_count": null,
   "metadata": {},
   "outputs": [],
   "source": []
  }
 ],
 "metadata": {
  "kernelspec": {
   "display_name": "Python 3",
   "language": "python",
   "name": "python3"
  },
  "language_info": {
   "codemirror_mode": {
    "name": "ipython",
    "version": 3
   },
   "file_extension": ".py",
   "mimetype": "text/x-python",
   "name": "python",
   "nbconvert_exporter": "python",
   "pygments_lexer": "ipython3",
   "version": "3.11.5"
  }
 },
 "nbformat": 4,
 "nbformat_minor": 2
}
