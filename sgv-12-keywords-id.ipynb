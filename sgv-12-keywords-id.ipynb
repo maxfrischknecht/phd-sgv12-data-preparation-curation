{
 "cells": [
  {
   "cell_type": "markdown",
   "metadata": {},
   "source": [
    "# SGV 12 Keywords & Object ID\n",
    "\n",
    "A script that collects every image that has keywords and saves the objects id and keywords as an object in a json file."
   ]
  },
  {
   "cell_type": "code",
   "execution_count": 1,
   "metadata": {},
   "outputs": [],
   "source": [
    "import os\n",
    "import json\n",
    "\n",
    "input_dir = \"/Users/maxfrischknecht/mfvk_cloud/A_PhD/07_Data/SGV_12N_Metadata_full\""
   ]
  },
  {
   "cell_type": "code",
   "execution_count": 2,
   "metadata": {},
   "outputs": [],
   "source": [
    "# loop over all the files in the input_dir\n",
    "result = []\n",
    "for file_name in os.listdir(input_dir):\n",
    "    if file_name.endswith('.json'):\n",
    "        with open(os.path.join(input_dir, file_name), 'r') as f:\n",
    "            # the file is open\n",
    "            data = json.load(f)\n",
    "            # place to save the extracted data\n",
    "            reduced_data = []\n",
    "\n",
    "            for obj in data:\n",
    "                \n",
    "                # test if image has id and keywords\n",
    "                if 'schema:identifier' in obj and 'schema:about' in obj:\n",
    "                    reduced_obj = {}\n",
    "\n",
    "                    # save the filename as id\n",
    "                    reduced_obj['schema:identifier'] = obj['schema:identifier'][0]['@value']\n",
    "\n",
    "                    # loop over the array of keywords and save the display title\n",
    "                    keyword_list = []\n",
    "                    for item in obj['schema:about']:\n",
    "                        if 'display_title' in item:\n",
    "                            keyword_list.append(item['display_title'])\n",
    "                    # print(keyword_list)\n",
    "                    reduced_obj[\"schema:about\"] = keyword_list;\n",
    " \n",
    "                    # save the new objects with its properties in a list\n",
    "                    # print(reduced_obj)\n",
    "                    reduced_data.append(reduced_obj)\n",
    "\n",
    "            # save the list of reduced objects in a global list\n",
    "            result.extend(reduced_data)"
   ]
  },
  {
   "cell_type": "code",
   "execution_count": 3,
   "metadata": {},
   "outputs": [
    {
     "name": "stdout",
     "output_type": "stream",
     "text": [
      "22364\n"
     ]
    }
   ],
   "source": [
    "print(len(result))"
   ]
  },
  {
   "cell_type": "code",
   "execution_count": 4,
   "metadata": {},
   "outputs": [
    {
     "name": "stdout",
     "output_type": "stream",
     "text": [
      "Data successfully written to ./export/sgv-12_keywords_ids.json\n"
     ]
    }
   ],
   "source": [
    "json_file = './export/sgv-12_keywords_ids.json'\n",
    "\n",
    "# Write the data to JSON\n",
    "with open(json_file, mode='w') as file:\n",
    "    json.dump(result, file, indent=4, ensure_ascii=False)\n",
    "\n",
    "print(f\"Data successfully written to {json_file}\")"
   ]
  },
  {
   "cell_type": "code",
   "execution_count": null,
   "metadata": {},
   "outputs": [],
   "source": []
  }
 ],
 "metadata": {
  "kernelspec": {
   "display_name": "Python 3",
   "language": "python",
   "name": "python3"
  },
  "language_info": {
   "codemirror_mode": {
    "name": "ipython",
    "version": 3
   },
   "file_extension": ".py",
   "mimetype": "text/x-python",
   "name": "python",
   "nbconvert_exporter": "python",
   "pygments_lexer": "ipython3",
   "version": "3.11.5"
  }
 },
 "nbformat": 4,
 "nbformat_minor": 2
}
