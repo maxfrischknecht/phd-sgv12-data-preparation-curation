{
 "cells": [
  {
   "cell_type": "markdown",
   "metadata": {},
   "source": [
    "# SGV 12 Comments\n",
    "\n",
    "A notebook to create a data sets of images from the collection Ernst Brunner that contain comments. "
   ]
  },
  {
   "cell_type": "code",
   "execution_count": 1,
   "metadata": {},
   "outputs": [],
   "source": [
    "import os\n",
    "import json\n",
    "from collections import defaultdict\n",
    "\n",
    "# path to the complete, local, collection data\n",
    "input_dir = \"/Users/maxfrischknecht/mfvk_cloud/A_PhD/07_Data/SGV_12N_Metadata_full\""
   ]
  },
  {
   "cell_type": "code",
   "execution_count": 12,
   "metadata": {},
   "outputs": [],
   "source": [
    "result = []\n",
    "temp_result = defaultdict(lambda: {\"count\": 0, \"image_ids\": []})\n",
    "\n",
    "# Variables to store total counts\n",
    "total_objects = 0\n",
    "total_objects_with_comments = 0\n",
    "total_comments_given = 0\n",
    "total_comments_unique = 0\n",
    "\n",
    "for file_name in os.listdir(input_dir):\n",
    "    if file_name.endswith('.json'):\n",
    "        with open(os.path.join(input_dir, file_name), 'r') as f:\n",
    "            # the file is open\n",
    "            data = json.load(f)\n",
    "            for item in data:\n",
    "\n",
    "                total_objects += 1\n",
    "                # Get the 'schema:about' field, if it exists\n",
    "                if 'schema:comment' in item:\n",
    "                    total_objects_with_comments += 1\n",
    "                    for val in item['schema:comment']:\n",
    "                        # Extract the display_title\n",
    "                        comment = val.get('@value')\n",
    "                        if comment:\n",
    "                            # Increment the count for the comment\n",
    "                            temp_result[comment]['count'] += 1\n",
    "                            total_comments_given += 1\n",
    "\n",
    "                            # Collect the identifiers in schema:identifier, if it exists\n",
    "                            if 'schema:identifier' in item:\n",
    "                                identifiers = item['schema:identifier']\n",
    "                                # Add all identifiers' @value to the image_ids list\n",
    "                                temp_result[comment]['image_ids'].append(identifiers[0]['@value'])\n",
    "                                # for identifier in identifiers:\n",
    "                                #     temp_result[display_title]['image_ids'].append(identifier['@value'])\n",
    "\n",
    "\n",
    "# Convert the temp_result dictionary to the required format\n",
    "for label, data in temp_result.items():\n",
    "    result.append({\n",
    "        \"label\": label,\n",
    "        \"count\": data[\"count\"],\n",
    "        \"image_ids\": data[\"image_ids\"],\n",
    "    })\n",
    "\n",
    "total_comments_unique = len(temp_result)"
   ]
  },
  {
   "cell_type": "code",
   "execution_count": 8,
   "metadata": {},
   "outputs": [
    {
     "name": "stdout",
     "output_type": "stream",
     "text": [
      "Total objects: 47837\n",
      "Total objects with comments: 40666\n",
      "Total comments given: 60475\n",
      "Total unique comments given: 3378\n",
      "Percentage of comments to images: 85.01%\n"
     ]
    }
   ],
   "source": [
    "print(f\"Total objects: {total_objects}\")\n",
    "print(f\"Total objects with comments: {total_objects_with_comments}\")\n",
    "print(f\"Total comments given: {total_comments_given}\")\n",
    "print(f\"Total unique comments given: {total_comments_unique}\")\n",
    "\n",
    "percentage = (total_objects_with_comments / total_objects) * 100\n",
    "print(f\"Percentage of comments to images: {percentage:.2f}%\")"
   ]
  },
  {
   "cell_type": "code",
   "execution_count": null,
   "metadata": {},
   "outputs": [],
   "source": []
  },
  {
   "cell_type": "code",
   "execution_count": 13,
   "metadata": {},
   "outputs": [
    {
     "name": "stdout",
     "output_type": "stream",
     "text": [
      "Data has been exported\n"
     ]
    }
   ],
   "source": [
    "with open('./export/sgv-12_comments.json', 'w') as json_file:\n",
    "    json.dump(result, json_file, indent=4)\n",
    "\n",
    "print(\"Data has been exported\")"
   ]
  },
  {
   "cell_type": "code",
   "execution_count": null,
   "metadata": {},
   "outputs": [],
   "source": []
  }
 ],
 "metadata": {
  "kernelspec": {
   "display_name": "Python 3",
   "language": "python",
   "name": "python3"
  },
  "language_info": {
   "codemirror_mode": {
    "name": "ipython",
    "version": 3
   },
   "file_extension": ".py",
   "mimetype": "text/x-python",
   "name": "python",
   "nbconvert_exporter": "python",
   "pygments_lexer": "ipython3",
   "version": "3.11.5"
  }
 },
 "nbformat": 4,
 "nbformat_minor": 2
}
