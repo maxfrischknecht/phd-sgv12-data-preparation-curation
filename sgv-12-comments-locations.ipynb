{
 "cells": [
  {
   "cell_type": "markdown",
   "metadata": {},
   "source": [
    "# SGV 12 Comments & Locations\n",
    "\n",
    "A notebook to create a data sets of images from the collection Ernst Brunner that contain comments and locations. "
   ]
  },
  {
   "cell_type": "code",
   "execution_count": 2,
   "metadata": {},
   "outputs": [],
   "source": [
    "import os\n",
    "import json\n",
    "from collections import defaultdict\n",
    "\n",
    "# path to the complete, local, collection data\n",
    "input_dir = \"/Users/maxfrischknecht/mfvk_cloud/A_PhD/07_Data/SGV_12N_Metadata_full\""
   ]
  },
  {
   "cell_type": "code",
   "execution_count": 6,
   "metadata": {},
   "outputs": [],
   "source": [
    "# loop over all the files in the input_dir\n",
    "result = []\n",
    "for file_name in os.listdir(input_dir):\n",
    "    if file_name.endswith('.json'):\n",
    "        with open(os.path.join(input_dir, file_name), 'r') as f:\n",
    "            # the file is open\n",
    "            data = json.load(f)\n",
    "            # place to save the extracted data\n",
    "            reduced_data = []\n",
    "\n",
    "            for obj in data:\n",
    "                \n",
    "                # test if image has id and keywords\n",
    "                if 'schema:identifier' in obj and 'schema:location' in obj and 'schema:comment' in obj:\n",
    "                    reduced_obj = {}\n",
    "\n",
    "                    # save the filename as id\n",
    "                    reduced_obj['schema:identifier'] = obj['schema:identifier'][0]['@value']\n",
    "\n",
    "                    # loop over the array of comments\n",
    "                    comment_list = []\n",
    "                    for item in obj['schema:comment']:\n",
    "                        if '@value' in item:\n",
    "                            comment_list.append(item['@value'])\n",
    "                    reduced_obj[\"schema:comment\"] = comment_list;\n",
    "\n",
    "                    # loop over the array of locations\n",
    "                    loc_list = []\n",
    "                    for item in obj['schema:location']:\n",
    "                        if 'display_title' in item:\n",
    "                            loc_list.append(item['display_title'])\n",
    "                    reduced_obj[\"schema:location\"] = loc_list;\n",
    " \n",
    "                    # save the new objects with its properties in a list\n",
    "                    # print(reduced_obj)\n",
    "                    reduced_data.append(reduced_obj)\n",
    "\n",
    "            # save the list of reduced objects in a global list\n",
    "            result.extend(reduced_data)"
   ]
  },
  {
   "cell_type": "code",
   "execution_count": 7,
   "metadata": {},
   "outputs": [
    {
     "name": "stdout",
     "output_type": "stream",
     "text": [
      "{'schema:identifier': 'SGV_12N_07556', 'schema:location': ['Rotkreuz'], 'schema:comment': ['Auf der Negativhülle (Pergamin) befindet sich folgender Stempel: B']}\n",
      "36194\n"
     ]
    }
   ],
   "source": [
    "print(result[5])\n",
    "print(len(result))"
   ]
  },
  {
   "cell_type": "markdown",
   "metadata": {},
   "source": [
    "Aggregate all objects together that have the same comment and same date to reduce file size"
   ]
  },
  {
   "cell_type": "code",
   "execution_count": 8,
   "metadata": {},
   "outputs": [
    {
     "name": "stdout",
     "output_type": "stream",
     "text": [
      "7635\n",
      "{'schema:identifier': ['SGV_12N_07561', 'SGV_12N_07562', 'SGV_12N_07563', 'SGV_12N_07564', 'SGV_12N_07565', 'SGV_12N_07566', 'SGV_12N_07567', 'SGV_12N_07568', 'SGV_12N_07569', 'SGV_12N_07570', 'SGV_12N_07571', 'SGV_12N_07572', 'SGV_12N_07573', 'SGV_12N_07574', 'SGV_12N_07575', 'SGV_12N_07576', 'SGV_12N_07577', 'SGV_12N_07578', 'SGV_12N_07579', 'SGV_12N_07580', 'SGV_12N_07581', 'SGV_12N_07689', 'SGV_12N_07690', 'SGV_12N_07691', 'SGV_12N_07692', 'SGV_12N_07693', 'SGV_12N_07694', 'SGV_12N_09266', 'SGV_12N_09267', 'SGV_12N_09268', 'SGV_12N_09269', 'SGV_12N_09270', 'SGV_12N_09272', 'SGV_12N_09273', 'SGV_12N_09274', 'SGV_12N_09275', 'SGV_12N_09283', 'SGV_12N_09284', 'SGV_12N_09286', 'SGV_12N_09374', 'SGV_12N_12894', 'SGV_12N_12962', 'SGV_12N_12963', 'SGV_12N_12969', 'SGV_12N_12973', 'SGV_12N_12978', 'SGV_12N_12979', 'SGV_12N_12980', 'SGV_12N_12981', 'SGV_12N_12982', 'SGV_12N_12983', 'SGV_12N_12984', 'SGV_12N_12988', 'SGV_12N_12989', 'SGV_12N_12990', 'SGV_12N_14053', 'SGV_12N_14055', 'SGV_12N_14056', 'SGV_12N_14057', 'SGV_12N_14058', 'SGV_12N_14059', 'SGV_12N_14060', 'SGV_12N_14061', 'SGV_12N_14062', 'SGV_12N_14063', 'SGV_12N_14064', 'SGV_12N_14065', 'SGV_12N_14066', 'SGV_12N_14067', 'SGV_12N_14068', 'SGV_12N_14069', 'SGV_12N_14070', 'SGV_12N_14071', 'SGV_12N_14072', 'SGV_12N_14074', 'SGV_12N_14076', 'SGV_12N_14077', 'SGV_12N_14078', 'SGV_12N_14079', 'SGV_12N_14080', 'SGV_12N_14548', 'SGV_12N_14549', 'SGV_12N_14550', 'SGV_12N_14551', 'SGV_12N_14552', 'SGV_12N_14554', 'SGV_12N_14555', 'SGV_12N_14556', 'SGV_12N_14561', 'SGV_12N_14562', 'SGV_12N_14563', 'SGV_12N_14564', 'SGV_12N_14565', 'SGV_12N_14566', 'SGV_12N_14567', 'SGV_12N_14569', 'SGV_12N_14570', 'SGV_12N_14571', 'SGV_12N_14572', 'SGV_12N_14573', 'SGV_12N_14574', 'SGV_12N_14575', 'SGV_12N_14585', 'SGV_12N_15021', 'SGV_12N_15022', 'SGV_12N_15023', 'SGV_12N_15024', 'SGV_12N_15025', 'SGV_12N_15026', 'SGV_12N_15027', 'SGV_12N_15028', 'SGV_12N_15029', 'SGV_12N_15030', 'SGV_12N_15031', 'SGV_12N_15032', 'SGV_12N_15033', 'SGV_12N_15034', 'SGV_12N_15035', 'SGV_12N_15036', 'SGV_12N_15037', 'SGV_12N_15038', 'SGV_12N_15039', 'SGV_12N_15040', 'SGV_12N_15041', 'SGV_12N_15042', 'SGV_12N_15043', 'SGV_12N_15044', 'SGV_12N_15045', 'SGV_12N_15046', 'SGV_12N_15047', 'SGV_12N_15048', 'SGV_12N_15461', 'SGV_12N_15462', 'SGV_12N_15463', 'SGV_12N_15464', 'SGV_12N_15465', 'SGV_12N_15466', 'SGV_12N_15467', 'SGV_12N_15468', 'SGV_12N_15469', 'SGV_12N_15470', 'SGV_12N_15471', 'SGV_12N_15472', 'SGV_12N_15473', 'SGV_12N_15474', 'SGV_12N_15475', 'SGV_12N_15476', 'SGV_12N_15477', 'SGV_12N_15478', 'SGV_12N_15479', 'SGV_12N_15480', 'SGV_12N_15549', 'SGV_12N_15550', 'SGV_12N_15551', 'SGV_12N_15552', 'SGV_12N_15553', 'SGV_12N_15554', 'SGV_12N_15555', 'SGV_12N_15556', 'SGV_12N_15557', 'SGV_12N_15558', 'SGV_12N_15559', 'SGV_12N_15560', 'SGV_12N_15561', 'SGV_12N_15562', 'SGV_12N_15563', 'SGV_12N_15564', 'SGV_12N_15565', 'SGV_12N_15566', 'SGV_12N_15567', 'SGV_12N_15937', 'SGV_12N_15938', 'SGV_12N_15939', 'SGV_12N_15940', 'SGV_12N_15941', 'SGV_12N_15942', 'SGV_12N_15943', 'SGV_12N_15944', 'SGV_12N_15945', 'SGV_12N_15946', 'SGV_12N_15948', 'SGV_12N_16125', 'SGV_12N_16126', 'SGV_12N_16127', 'SGV_12N_16128', 'SGV_12N_16129', 'SGV_12N_16130', 'SGV_12N_16131', 'SGV_12N_16132', 'SGV_12N_16133', 'SGV_12N_16134', 'SGV_12N_16135', 'SGV_12N_16136', 'SGV_12N_16137', 'SGV_12N_16138', 'SGV_12N_16139', 'SGV_12N_16140', 'SGV_12N_16141', 'SGV_12N_16142', 'SGV_12N_16143', 'SGV_12N_16144', 'SGV_12N_16145', 'SGV_12N_16146', 'SGV_12N_16147', 'SGV_12N_16148', 'SGV_12N_16149', 'SGV_12N_16150', 'SGV_12N_16151', 'SGV_12N_16152', 'SGV_12N_16153', 'SGV_12N_16154', 'SGV_12N_16155', 'SGV_12N_16156', 'SGV_12N_16348', 'SGV_12N_16349', 'SGV_12N_16350', 'SGV_12N_16351', 'SGV_12N_16352', 'SGV_12N_16353', 'SGV_12N_16354', 'SGV_12N_16355', 'SGV_12N_16356', 'SGV_12N_16357', 'SGV_12N_16358', 'SGV_12N_16360', 'SGV_12N_16361', 'SGV_12N_16362', 'SGV_12N_16443', 'SGV_12N_16444', 'SGV_12N_16445', 'SGV_12N_16446', 'SGV_12N_16447', 'SGV_12N_16448', 'SGV_12N_16449', 'SGV_12N_16450', 'SGV_12N_16451', 'SGV_12N_16452', 'SGV_12N_16453', 'SGV_12N_16569', 'SGV_12N_16570', 'SGV_12N_16571', 'SGV_12N_16572', 'SGV_12N_16573', 'SGV_12N_16574', 'SGV_12N_16575', 'SGV_12N_16576', 'SGV_12N_16577', 'SGV_12N_16615', 'SGV_12N_16701', 'SGV_12N_16702', 'SGV_12N_16703', 'SGV_12N_16704', 'SGV_12N_16707', 'SGV_12N_16708', 'SGV_12N_16709', 'SGV_12N_16710', 'SGV_12N_16711', 'SGV_12N_16712', 'SGV_12N_16713', 'SGV_12N_16714', 'SGV_12N_16715', 'SGV_12N_16716', 'SGV_12N_16717', 'SGV_12N_16718', 'SGV_12N_16719', 'SGV_12N_16720', 'SGV_12N_16721', 'SGV_12N_16722', 'SGV_12N_16723', 'SGV_12N_16724', 'SGV_12N_16725', 'SGV_12N_16726', 'SGV_12N_16727', 'SGV_12N_16728', 'SGV_12N_16729', 'SGV_12N_16730', 'SGV_12N_16731', 'SGV_12N_16801', 'SGV_12N_16802', 'SGV_12N_16803', 'SGV_12N_16804', 'SGV_12N_16805', 'SGV_12N_16806', 'SGV_12N_16808', 'SGV_12N_16809', 'SGV_12N_16810', 'SGV_12N_16811', 'SGV_12N_16812', 'SGV_12N_16813', 'SGV_12N_16814', 'SGV_12N_16815', 'SGV_12N_16816', 'SGV_12N_16817', 'SGV_12N_16818', 'SGV_12N_16819', 'SGV_12N_16820', 'SGV_12N_16822', 'SGV_12N_16823', 'SGV_12N_16824', 'SGV_12N_16825', 'SGV_12N_16826', 'SGV_12N_16827', 'SGV_12N_16828', 'SGV_12N_16829', 'SGV_12N_16830', 'SGV_12N_16831', 'SGV_12N_16832', 'SGV_12N_16833', 'SGV_12N_16834', 'SGV_12N_16835', 'SGV_12N_16836', 'SGV_12N_16837', 'SGV_12N_16838', 'SGV_12N_16839', 'SGV_12N_16840', 'SGV_12N_16841', 'SGV_12N_16842', 'SGV_12N_16843', 'SGV_12N_16844', 'SGV_12N_16845', 'SGV_12N_16846', 'SGV_12N_16847', 'SGV_12N_16848', 'SGV_12N_16849', 'SGV_12N_16850', 'SGV_12N_16851', 'SGV_12N_17305', 'SGV_12N_17306', 'SGV_12N_17307', 'SGV_12N_17308', 'SGV_12N_17309', 'SGV_12N_17310', 'SGV_12N_17312', 'SGV_12N_17313', 'SGV_12N_17314', 'SGV_12N_17317', 'SGV_12N_17329', 'SGV_12N_17331', 'SGV_12N_17335', 'SGV_12N_10878', 'SGV_12N_10879', 'SGV_12N_10880', 'SGV_12N_11050', 'SGV_12N_11051', 'SGV_12N_11773', 'SGV_12N_11776', 'SGV_12N_17635', 'SGV_12N_17636', 'SGV_12N_17637', 'SGV_12N_17638', 'SGV_12N_17639', 'SGV_12N_17640', 'SGV_12N_17641', 'SGV_12N_17646', 'SGV_12N_18553', 'SGV_12N_18554', 'SGV_12N_18555', 'SGV_12N_18556', 'SGV_12N_18557', 'SGV_12N_18558', 'SGV_12N_18559', 'SGV_12N_18560', 'SGV_12N_18561', 'SGV_12N_18562', 'SGV_12N_18564', 'SGV_12N_23691', 'SGV_12N_23692', 'SGV_12N_23693', 'SGV_12N_23694', 'SGV_12N_23695', 'SGV_12N_23696', 'SGV_12N_23697', 'SGV_12N_23698'], 'schema:location': ['Zürich'], 'schema:comment': ['Auf der Negativhülle (Pergamin) befindet sich folgender Stempel: B']}\n"
     ]
    }
   ],
   "source": [
    "# Aggregating items\n",
    "aggregated_result = defaultdict(lambda: {'schema:identifier': []})\n",
    "\n",
    "for item in result:\n",
    "    key = (tuple(item['schema:location']), tuple(item['schema:comment']))\n",
    "    aggregated_result[key]['schema:identifier'].append(item['schema:identifier'])\n",
    "    aggregated_result[key]['schema:location'] = item['schema:location']\n",
    "    aggregated_result[key]['schema:comment'] = item['schema:comment']\n",
    "\n",
    "# Convert aggregated_result to a list\n",
    "final_result = list(aggregated_result.values())\n",
    "print(len(final_result))\n",
    "print(final_result[6])"
   ]
  },
  {
   "cell_type": "code",
   "execution_count": 9,
   "metadata": {},
   "outputs": [
    {
     "name": "stdout",
     "output_type": "stream",
     "text": [
      "Data has been exported\n"
     ]
    }
   ],
   "source": [
    "with open('./export/sgv-12_comments_locations.json', 'w') as json_file:\n",
    "    json.dump(final_result, json_file, indent=4)\n",
    "\n",
    "print(\"Data has been exported\")"
   ]
  },
  {
   "cell_type": "code",
   "execution_count": null,
   "metadata": {},
   "outputs": [],
   "source": []
  }
 ],
 "metadata": {
  "kernelspec": {
   "display_name": "Python 3",
   "language": "python",
   "name": "python3"
  },
  "language_info": {
   "codemirror_mode": {
    "name": "ipython",
    "version": 3
   },
   "file_extension": ".py",
   "mimetype": "text/x-python",
   "name": "python",
   "nbconvert_exporter": "python",
   "pygments_lexer": "ipython3",
   "version": "3.11.5"
  }
 },
 "nbformat": 4,
 "nbformat_minor": 2
}
