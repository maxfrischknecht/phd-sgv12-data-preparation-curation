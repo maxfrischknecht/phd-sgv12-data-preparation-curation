{
 "cells": [
  {
   "cell_type": "markdown",
   "metadata": {},
   "source": [
    "# SGV 12 Locations\n",
    "\n",
    "A notebook to create a data sets of images from the collection Ernst Brunner that contain locations. "
   ]
  },
  {
   "cell_type": "code",
   "execution_count": 2,
   "metadata": {},
   "outputs": [],
   "source": [
    "import os\n",
    "import json\n",
    "from collections import defaultdict\n",
    "\n",
    "# path to the complete, local, collection data\n",
    "input_dir = \"/Users/maxfrischknecht/mfvk_cloud/A_PhD/07_Data/SGV_12N_Metadata_full\""
   ]
  },
  {
   "cell_type": "code",
   "execution_count": 3,
   "metadata": {},
   "outputs": [],
   "source": [
    "result = []\n",
    "temp_result = defaultdict(lambda: {\"count\": 0, \"image_ids\": []})\n",
    "\n",
    "# Variables to store total counts\n",
    "total_objects = 0\n",
    "total_objects_with_locations = 0\n",
    "total_objects_with_coordinates = 0\n",
    "total_locations_given = 0\n",
    "total_locations_unique = 0\n",
    "\n",
    "for file_name in os.listdir(input_dir):\n",
    "    if file_name.endswith('.json'):\n",
    "        with open(os.path.join(input_dir, file_name), 'r') as f:\n",
    "            # the file is open\n",
    "            data = json.load(f)\n",
    "            for item in data:\n",
    "\n",
    "                total_objects += 1\n",
    "                location = None\n",
    "                coordinates = None\n",
    "\n",
    "                # Get the 'schema:location' field, if it exists\n",
    "                if 'schema:location' in item:\n",
    "                    total_objects_with_locations += 1\n",
    "                    for about in item['schema:location']:\n",
    "                        loc = about.get('display_title')\n",
    "                        if loc:\n",
    "                            location = loc\n",
    "\n",
    "                # Get the 'schema:geo' field, if it exists\n",
    "                if 'schema:geo' in item:\n",
    "                    total_objects_with_coordinates += 1\n",
    "                    for geo in item['schema:geo']:\n",
    "                        coords = geo.get('@value')\n",
    "                        if coords:\n",
    "                            coordinates = coords\n",
    "\n",
    "                # Determine which fields to add\n",
    "                if location or coordinates:\n",
    "                    if location and not coordinates:\n",
    "                        coordinates = \"unknown\"\n",
    "                    elif coordinates and not location:\n",
    "                        location = \"unknown\"\n",
    "\n",
    "                    temp_result[location]['count'] += 1\n",
    "                    temp_result[location]['coordinates'] = coordinates\n",
    "                    temp_result[location]['location'] = location\n",
    "                    total_locations_given += 1\n",
    "\n",
    "                    # Collect the identifiers in schema:identifier, if it exists\n",
    "                    if 'schema:identifier' in item:\n",
    "                        identifiers = item['schema:identifier']\n",
    "                        # Add all identifiers' @value to the image_ids list\n",
    "                        temp_result[location]['image_ids'].append(identifiers[0]['@value'])\n",
    "\n",
    "\n",
    "# Convert the temp_result dictionary to the required format\n",
    "for label, data in temp_result.items():\n",
    "    result.append({\n",
    "        \"label\": label,\n",
    "        \"count\": data[\"count\"],\n",
    "        \"image_ids\": data[\"image_ids\"],\n",
    "        \"coordinates\": data[\"coordinates\"],\n",
    "        \"location\": data[\"location\"]\n",
    "    })\n",
    "\n",
    "total_locations_unique = len(temp_result)"
   ]
  },
  {
   "cell_type": "code",
   "execution_count": 6,
   "metadata": {},
   "outputs": [
    {
     "name": "stdout",
     "output_type": "stream",
     "text": [
      "Total objects: 47837\n",
      "Total objects with locations: 42107\n",
      "Total objects with coordinates: 42107\n",
      "Total locations given: 42107\n",
      "Total unique locations/coordinates given: 1087\n",
      "Percentage of locations to images: 88.02%\n",
      "Percentage of coordinates to images: 88.02%\n"
     ]
    }
   ],
   "source": [
    "print(f\"Total objects: {total_objects}\")\n",
    "print(f\"Total objects with locations: {total_objects_with_locations}\")\n",
    "print(f\"Total objects with coordinates: {total_objects_with_coordinates}\")\n",
    "print(f\"Total locations given: {total_locations_given}\")\n",
    "print(f\"Total unique locations/coordinates given: {total_locations_unique}\")\n",
    "\n",
    "percentageLoc = (total_objects_with_locations / total_objects) * 100\n",
    "print(f\"Percentage of locations to images: {percentageLoc:.2f}%\")\n",
    "\n",
    "percentageGeo = (total_objects_with_coordinates / total_objects) * 100\n",
    "print(f\"Percentage of coordinates to images: {percentageGeo:.2f}%\")"
   ]
  },
  {
   "cell_type": "code",
   "execution_count": 5,
   "metadata": {},
   "outputs": [
    {
     "name": "stdout",
     "output_type": "stream",
     "text": [
      "Data has been exported\n"
     ]
    }
   ],
   "source": [
    "with open('./export/sgv-12_locations.json', 'w') as json_file:\n",
    "    json.dump(result, json_file, indent=4)\n",
    "\n",
    "print(\"Data has been exported\")"
   ]
  },
  {
   "cell_type": "code",
   "execution_count": null,
   "metadata": {},
   "outputs": [],
   "source": []
  }
 ],
 "metadata": {
  "kernelspec": {
   "display_name": "Python 3",
   "language": "python",
   "name": "python3"
  },
  "language_info": {
   "codemirror_mode": {
    "name": "ipython",
    "version": 3
   },
   "file_extension": ".py",
   "mimetype": "text/x-python",
   "name": "python",
   "nbconvert_exporter": "python",
   "pygments_lexer": "ipython3",
   "version": "3.11.5"
  }
 },
 "nbformat": 4,
 "nbformat_minor": 2
}
